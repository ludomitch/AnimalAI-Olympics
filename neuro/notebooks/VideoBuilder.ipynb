{
 "cells": [
  {
   "cell_type": "code",
   "execution_count": 1,
   "metadata": {
    "collapsed": true
   },
   "outputs": [],
   "source": [
    "# Every logic run, make 10 frames with: Running logic=> macro-action inferred\n",
    "# During macro-action keep ma timer going. Micro-steps, Macro-steps and global steps\n",
    "# Display: SUCCESS or FAILURE\n",
    "import os\n",
    "import sys\n",
    "# os.chdir('/Users/ludo/Desktop/animalai/animalai')\n",
    "os.chdir('/Users/ludo/Desktop/animalai/animalai/neuro')\n",
    "sys.path.insert(0, \"/Users/ludo/Desktop/animalai/animalai/animalai_train\")\n",
    "sys.path.insert(1, \"/Users/ludo/Desktop/animalai/animalai/animalai\")"
   ]
  },
  {
   "cell_type": "code",
   "execution_count": 2,
   "metadata": {},
   "outputs": [
    {
     "name": "stderr",
     "output_type": "stream",
     "text": [
      "WARNING:tensorflow:From /Users/ludo/Desktop/animalai/lib/python3.6/site-packages/mlagents/tf_utils/tf.py:33: The name tf.ConfigProto is deprecated. Please use tf.compat.v1.ConfigProto instead.\n",
      "\n"
     ]
    }
   ],
   "source": [
    "import json\n",
    "\n",
    "from animalai.envs.gym.environment import AnimalAIGym\n",
    "from animalai.envs.arena_config import ArenaConfig\n",
    "from centroidtracker import CentroidTracker\n",
    "\n",
    "from macro_action import MacroAction\n",
    "from logic import Logic\n",
    "from utils import preprocess, object_types\n",
    "from config import COMPETITION_CONFIGS as comp\n",
    "fpath = \"/Users/ludo/Desktop/demo_vids/numerosity-fail/\"\n",
    "\n",
    "class Pipeline:\n",
    "    def __init__(self, args):\n",
    "        self.args = args\n",
    "        self.ct = None\n",
    "        self.gg_id = 0\n",
    "        env_path = args.env\n",
    "        worker_id = 1\n",
    "        seed = args.seed\n",
    "        self.arenas = args.arena_config\n",
    "        self.buffer_size = 10\n",
    "        first_arena = self.arenas[0] if self.arenas is not None else None\n",
    "\n",
    "        # ac = ArenaConfig(arena_path)\n",
    "        # Load Unity environment based on config file with Gym or ML agents wrapper\n",
    "        self.env = AnimalAIGym(\n",
    "            environment_filename=env_path,\n",
    "            worker_id=worker_id,\n",
    "            n_arenas=1,\n",
    "            arenas_configurations=first_arena,\n",
    "            seed=seed,\n",
    "            grayscale=False,\n",
    "            resolution=640,\n",
    "            inference=args.inference\n",
    "        )\n",
    "        self.logic = Logic(self.buffer_size)\n",
    "\n",
    "    def take_macro_step(self, env, state, step_results, macro_action, pass_mark):\n",
    "        ma = MacroAction(env, self.ct, state, step_results, macro_action)\n",
    "        # print(f\"Initiating macro_action: {macro_action['initiate']}\")\n",
    "        step_results, state, macro_stats, micro_step = ma.run(pass_mark)\n",
    "        # print(f\"Results: {self.format_macro_results(macro_stats)}\")\n",
    "        return step_results, state, micro_step, macro_stats[\"success\"]\n",
    "\n",
    "    def episode_over(self, done):\n",
    "        if done:\n",
    "            return True\n",
    "        return False\n",
    "\n",
    "    def test_run(self, comp_fpath:str):\n",
    "        try:\n",
    "            for arena in comp['Numerosity'][:1]:\n",
    "                print(f\"ARENA:{arena}\")\n",
    "                ac = ArenaConfig(comp_fpath + arena + '.yml')\n",
    "                # ac.arenas[0].t = 1000\n",
    "                self.env.reset(ac)\n",
    "                step_results = self.env.step([[0, 0]])  # Take 0,0 step\n",
    "                global_steps = 0\n",
    "                macro_step = 0\n",
    "                reward = 0\n",
    "                self.ct = {ot: CentroidTracker() for ot in object_types} # Initialise tracker\n",
    "                actions_buffer = []\n",
    "                while not self.episode_over(step_results[2]):\n",
    "                    state = preprocess(self.ct, step_results, global_steps, reward)\n",
    "                    macro_action = self.logic.run(\n",
    "                        macro_step,\n",
    "                        state,\n",
    "                        choice=\"test\")\n",
    "\n",
    "                    step_results, state, micro_step, success = self.take_macro_step(\n",
    "                        self.env, state, step_results, macro_action, ac.arenas[0].pass_mark\n",
    "                    )\n",
    "                    global_steps += micro_step\n",
    "                    macro_step +=1\n",
    "                    actions_buffer.append(macro_action['raw'][0])\n",
    "                    if (state['reward']>ac.arenas[0].pass_mark):\n",
    "                        break\n",
    "                if (state['reward']>ac.arenas[0].pass_mark):\n",
    "                    success = True\n",
    "                else:\n",
    "                    success = False\n",
    "                with open(f\"{fpath}mas.txt\", \"w\") as text_file:\n",
    "                    text_file.write(str(actions_buffer))\n",
    "                \n",
    "        except Exception as e:\n",
    "            print(e)\n",
    "        self.env.close()\n",
    "        return success\n"
   ]
  },
  {
   "cell_type": "code",
   "execution_count": 3,
   "metadata": {},
   "outputs": [
    {
     "name": "stdout",
     "output_type": "stream",
     "text": [
      "USING LOCAL LIBRARY\n"
     ]
    },
    {
     "name": "stderr",
     "output_type": "stream",
     "text": [
      "INFO:mlagents_envs:Connected to Unity environment with package version 0.15.0-preview and communication version 0.15.0\n",
      "INFO:mlagents_envs:Connected new brain:\n",
      "AnimalAI?team=0\n",
      "INFO:gym_unity:1 agents within environment.\n"
     ]
    },
    {
     "name": "stdout",
     "output_type": "stream",
     "text": [
      "ARENA:9-3-1\n",
      "More on left\n"
     ]
    },
    {
     "name": "stderr",
     "output_type": "stream",
     "text": [
      "INFO:mlagents_envs:Environment shut down with return code 0.\n"
     ]
    }
   ],
   "source": [
    "from collections import namedtuple\n",
    "from animalai.envs.arena_config import ArenaConfig\n",
    "env_path = '../env/aaiagain'\n",
    "ac = \"configurations/curriculum4/35.yml\"\n",
    "ac = [ArenaConfig(ac)]\n",
    "margs = namedtuple('args', 'seed env arena_config num_episodes inference')\n",
    "args = margs(env=env_path, seed =2, arena_config=ac, num_episodes=120, inference=False)\n",
    "pipe = Pipeline(args)\n",
    "results = pipe.test_run(\"../competition_configurations/\")\n"
   ]
  },
  {
   "cell_type": "code",
   "execution_count": null,
   "metadata": {},
   "outputs": [],
   "source": [
    "import cv2\n",
    "import numpy as np\n",
    "import glob\n",
    "img_array = []\n",
    "# fpath = \"/Users/ludo/Desktop/demo_vids/y-maze-fail/\"\n",
    "\n",
    "file = open(f\"{fpath}mas.txt\", \"r\").read()\n",
    "order = {}\n",
    "for i in eval(file):\n",
    "    order[int(\n",
    "        i.split(',')[-1].replace(')',''))] = i.split('initiate(')[1].split('(')[0]\n",
    "\n",
    "final_file_list = []\n",
    "files = glob.glob(f'{fpath}*.png')\n",
    "idxs = {}\n",
    "c = 0\n",
    "for k,v in order.items():\n",
    "    tmp_list = [i for i in files if v in i]\n",
    "    tmp_list = sorted(tmp_list, key=lambda x: int(x.split('/')[-1].split('-')[1].split('.')[0]))\n",
    "    c+=len(tmp_list)\n",
    "    idxs[v] = c\n",
    "    final_file_list+=tmp_list\n",
    "    \n",
    "print(idxs)\n",
    "for c, filename in enumerate(final_file_list):\n",
    "    ma = [v for k,v in order.items() if v in filename][0]\n",
    "\n",
    "    if c==0:\n",
    "        img = cv2.imread(filename)\n",
    "        height, width, layers = img.shape\n",
    "        size = (width,height)\n",
    "        cv2.putText(img,f\"UNDERSTANDING...\", (int(width/10),int(height/10)), 2, 1, (255,255,255))\n",
    "        for _ in range(23):\n",
    "            img_array.append(img)\n",
    "        img = cv2.imread(filename)\n",
    "        cv2.putText(img,f\"Initiating macro-action:\", (int(width/10),int(height/10)), 0, 0.75, (255,255,255))\n",
    "        cv2.putText(img,f\"{ma} object 0\", (int(width/10),int(height/10*2)), 0, 0.75, (255,255,255))\n",
    "        for _ in range(15):\n",
    "            img_array.append(img)\n",
    "        idxs.pop(ma)\n",
    "    if ma in idxs:\n",
    "        img = cv2.imread(filename)\n",
    "        if ma=='interact':\n",
    "            cv2.putText(img,f\"Goal visible=>\", (int(width/10),int(height/10)), 0, 0.75, (255,255,255))\n",
    "            cv2.putText(img,f\"initiating macro-action:\", (int(width/10),int(height/10*2)), 0, 0.75, (255,255,255))\n",
    "            cv2.putText(img,f\"{ma} w/ goal\", (int(width/10),int(height/10*3)), 0, 0.75, (255,255,255))\n",
    "            for _ in range(23):\n",
    "                img_array.append(img)\n",
    "        idxs.pop(ma)\n",
    "\n",
    "    img = cv2.imread(filename)\n",
    "    img = cv2.imread(filename)\n",
    "    height, width, layers = img.shape\n",
    "    size = (width,height)\n",
    "    cv2.putText(img,f\"MACRO-ACTION: {ma}\", (int(width/10),int(height/10)), 2, 1, (255,255,255))\n",
    "\n",
    "    img_array.append(img)\n",
    "\n",
    "\n",
    "out = cv2.VideoWriter(f'{fpath}/video.mp4',cv2.VideoWriter_fourcc(*'DIVX'), 13, size)\n",
    " \n",
    "for i in range(len(img_array)):\n",
    "    out.write(img_array[i])\n",
    "out.release()\n"
   ]
  },
  {
   "cell_type": "code",
   "execution_count": 10,
   "metadata": {},
   "outputs": [
    {
     "name": "stdout",
     "output_type": "stream",
     "text": [
      "{'interact': 249}\n"
     ]
    }
   ],
   "source": [
    "import cv2\n",
    "import numpy as np\n",
    "import glob\n",
    "img_array = []\n",
    "# fpath = \"/Users/ludo/Desktop/demo_vids/y-maze-fail/\"\n",
    "\n",
    "file = open(f\"{fpath}mas.txt\", \"r\").read()\n",
    "order = {}\n",
    "for i in eval(file):\n",
    "    order[int(\n",
    "        i.split(',')[-1].replace(')',''))] = i.split('initiate(')[1].split('(')[0]\n",
    "\n",
    "final_file_list = []\n",
    "files = glob.glob(f'{fpath}*.png')\n",
    "idxs = {}\n",
    "c = 0\n",
    "for k,v in order.items():\n",
    "    tmp_list = [i for i in files if v in i]\n",
    "    tmp_list = sorted(tmp_list, key=lambda x: int(x.split('/')[-1].split('interact')[0]))\n",
    "    c+=len(tmp_list)\n",
    "    idxs[v] = c\n",
    "    final_file_list+=tmp_list\n",
    "    break\n",
    "    \n",
    "print(idxs)\n",
    "for c, filename in enumerate(final_file_list):\n",
    "    ma = [v for k,v in order.items() if v in filename][0]\n",
    "\n",
    "    if c==0:\n",
    "        img = cv2.imread(filename)\n",
    "        height, width, layers = img.shape\n",
    "        size = (width,height)\n",
    "        cv2.putText(img,f\"UNDERSTANDING...\", (int(width/10),int(height/10)), 2, 1, (255,255,255))\n",
    "        for _ in range(23):\n",
    "            img_array.append(img)\n",
    "        img = cv2.imread(filename)\n",
    "        cv2.putText(img,f\"More goals on left\", (int(width/10),int(height/10)), 0, 0.75, (255,255,255))\n",
    "        cv2.putText(img,f\"Selecting random goal on left id=0\", (int(width/10),int(height/10*2)), 0, 0.75, (255,255,255))\n",
    "        cv2.putText(img,f\"Initiating macro-action:\", (int(width/10),int(height/10*3)), 0, 0.75, (255,255,255))\n",
    "        cv2.putText(img,f\"{ma} w/goal id:0\", (int(width/10),int(height/10*4)), 0, 0.75, (255,255,255))\n",
    "        for _ in range(15):\n",
    "            img_array.append(img)\n",
    "        idxs.pop(ma)\n",
    "    if ma in idxs:\n",
    "        img = cv2.imread(filename)\n",
    "        if ma=='interact':\n",
    "            cv2.putText(img,f\"Goal visible=>\", (int(width/10),int(height/10)), 0, 0.75, (255,255,255))\n",
    "            cv2.putText(img,f\"initiating macro-action:\", (int(width/10),int(height/10*2)), 0, 0.75, (255,255,255))\n",
    "            cv2.putText(img,f\"{ma} w/ goal\", (int(width/10),int(height/10*3)), 0, 0.75, (255,255,255))\n",
    "            for _ in range(23):\n",
    "                img_array.append(img)\n",
    "        idxs.pop(ma)\n",
    "\n",
    "    img = cv2.imread(filename)\n",
    "    img = cv2.imread(filename)\n",
    "    height, width, layers = img.shape\n",
    "    size = (width,height)\n",
    "    cv2.putText(img,f\"MACRO-ACTION: {ma}\", (int(width/10),int(height/10)), 2, 1, (255,255,255))\n",
    "\n",
    "    img_array.append(img)\n",
    "\n",
    "\n",
    "out = cv2.VideoWriter(f'{fpath}/video.mp4',cv2.VideoWriter_fourcc(*'DIVX'), 13, size)\n",
    " \n",
    "for i in range(len(img_array)):\n",
    "    out.write(img_array[i])\n",
    "out.release()\n"
   ]
  },
  {
   "cell_type": "code",
   "execution_count": null,
   "metadata": {},
   "outputs": [],
   "source": [
    "[filename for filename in glob.glob('/Users/ludo/Desktop/demo_vids/fc-suc/*.png')]"
   ]
  },
  {
   "cell_type": "code",
   "execution_count": null,
   "metadata": {},
   "outputs": [],
   "source": [
    "os.listdir('/Users/ludo/Desktop/demo_vids/fc-suc/')"
   ]
  },
  {
   "cell_type": "code",
   "execution_count": null,
   "metadata": {},
   "outputs": [],
   "source": [
    "file = open(\"/Users/ludo/Desktop/demo_vids/fc-suc/mas.txt\", \"r\").read()\n",
    "order = {}\n",
    "for i in eval(file):\n",
    "    order[int(\n",
    "        i.split(',')[-1].replace(')',''))] = i.split('initiate(')[1].split('(')[0]\n",
    "order\n",
    "# int(eval(file)[1].split(',')[-1].replace(')',''))"
   ]
  },
  {
   "cell_type": "code",
   "execution_count": null,
   "metadata": {},
   "outputs": [],
   "source": [
    "file = open(\"/Users/ludo/Desktop/demo_vids/fc-suc/mas.txt\", \"r\").read()\n",
    "order = {}\n",
    "for i in eval(file):\n",
    "    order[int(\n",
    "        i.split(',')[-1].replace(')',''))] = i.split('initiate(')[1].split('(')[0]\n",
    "\n",
    "final_file_list = []\n",
    "files = glob.glob('/Users/ludo/Desktop/demo_vids/fc-suc/*.png')\n",
    "for k,v in order.items():\n",
    "    tmp_list = [i for i in files if v in i]\n",
    "    tmp_list = sorted(tmp_list, key=lambda x: int(x.split('/')[-1].split('-')[1].split('.')[0]))\n",
    "    final_file_list+=tmp_list\n",
    "    print(len(final_file_list))\n",
    "final_file_list"
   ]
  },
  {
   "cell_type": "code",
   "execution_count": null,
   "metadata": {},
   "outputs": [],
   "source": [
    "import glob\n",
    "files = glob.glob('/Users/ludo/Desktop/demo_vids/fc-suc/*.png')\n",
    "# int(files[0].split('/')[-1].split('-')[1].split('.')[0])\n",
    "files"
   ]
  },
  {
   "cell_type": "code",
   "execution_count": null,
   "metadata": {},
   "outputs": [],
   "source": [
    "os.path.exists(\"/Users/ludo/Desktop/demo_vids/fc-suc/interact-1.png\")"
   ]
  },
  {
   "cell_type": "code",
   "execution_count": null,
   "metadata": {
    "collapsed": true
   },
   "outputs": [],
   "source": []
  }
 ],
 "metadata": {
  "kernelspec": {
   "display_name": "animalaienv",
   "language": "python",
   "name": "animalaienv"
  },
  "language_info": {
   "codemirror_mode": {
    "name": "ipython",
    "version": 3
   },
   "file_extension": ".py",
   "mimetype": "text/x-python",
   "name": "python",
   "nbconvert_exporter": "python",
   "pygments_lexer": "ipython3",
   "version": "3.6.2"
  }
 },
 "nbformat": 4,
 "nbformat_minor": 2
}
